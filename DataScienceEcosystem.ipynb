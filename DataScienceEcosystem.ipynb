{
 "cells": [
  {
   "cell_type": "markdown",
   "id": "a1cd8733-beb0-463c-9229-f20e9a9ce830",
   "metadata": {},
   "source": [
    "# Data Science Tools and Ecosystem"
   ]
  },
  {
   "cell_type": "markdown",
   "id": "9b962907-f243-4461-a309-a9abb4cf8c1d",
   "metadata": {},
   "source": [
    "### Objectives\n",
    "- List of popular languages for Data Science\n",
    "- Commonly used tools in Data Science\n",
    "- Commonly used libraries in Data Science\n",
    "- Evaluating Arithmetic Expressions"
   ]
  },
  {
   "cell_type": "markdown",
   "id": "48362010-06e8-46e0-97e0-7c14bb7541b7",
   "metadata": {},
   "source": [
    "#### In this notebook, Data Science Tools and Ecosystem are summarized."
   ]
  },
  {
   "cell_type": "markdown",
   "id": "7e052b1b-fd80-4527-98df-d7dc279c89bb",
   "metadata": {},
   "source": [
    "Some of the popular languages that Data Scientists use are:\n",
    "1. Python\n",
    "2. R\n",
    "3. SQL\n",
    "4. Julia"
   ]
  },
  {
   "cell_type": "markdown",
   "id": "19b415aa-85b8-4800-8a2d-cda66d510281",
   "metadata": {},
   "source": [
    "Some of the commonly used libraries used by Data Scientists include:\n",
    "1. NumPy\n",
    "2. Pandas\n",
    "3. TensorFlow\n",
    "4. SciPy"
   ]
  },
  {
   "cell_type": "markdown",
   "id": "80e9e341-72ba-4d18-9691-e23e5e3f513c",
   "metadata": {},
   "source": [
    "| Data Science Tools |\n",
    "|-------------------- |\n",
    "|Jupyter Notebooks|\n",
    "|Apache Hadoop|\n",
    "|GitHub|"
   ]
  },
  {
   "cell_type": "markdown",
   "id": "bf4cd2e1-bf10-4ac0-99cb-38c1daaf5348",
   "metadata": {},
   "source": [
    "### Below are a few examples of evaluating arithmetic expressions in Python."
   ]
  },
  {
   "cell_type": "code",
   "execution_count": 5,
   "id": "94e761da-e42a-44ab-8d89-6dcfae9f6af3",
   "metadata": {},
   "outputs": [
    {
     "data": {
      "text/plain": [
       "17"
      ]
     },
     "execution_count": 5,
     "metadata": {},
     "output_type": "execute_result"
    }
   ],
   "source": [
    "#This a simple arithmetic expression to mutiply then add integers\n",
    "(3*4)+5"
   ]
  },
  {
   "cell_type": "code",
   "execution_count": 7,
   "id": "85bb9f4d-3936-409e-b75d-bac1c6133660",
   "metadata": {},
   "outputs": [
    {
     "name": "stdout",
     "output_type": "stream",
     "text": [
      "3.3333333333333335 hours\n"
     ]
    }
   ],
   "source": [
    "#This will convert 200 minutes to hours by dividing by 60.\n",
    "hours = 200/60\n",
    "print(f\"{hours} hours\")"
   ]
  },
  {
   "cell_type": "markdown",
   "id": "d9ab5a7d-d2d5-4bf9-8625-0f6a62ce7665",
   "metadata": {},
   "source": [
    "## Author \n",
    "Jharlyn Mae Alejo"
   ]
  },
  {
   "cell_type": "code",
   "execution_count": null,
   "id": "673b88cf-ec79-40b6-9078-a77c32a107b0",
   "metadata": {},
   "outputs": [],
   "source": []
  }
 ],
 "metadata": {
  "kernelspec": {
   "display_name": "Python 3 (ipykernel)",
   "language": "python",
   "name": "python3"
  },
  "language_info": {
   "codemirror_mode": {
    "name": "ipython",
    "version": 3
   },
   "file_extension": ".py",
   "mimetype": "text/x-python",
   "name": "python",
   "nbconvert_exporter": "python",
   "pygments_lexer": "ipython3",
   "version": "3.11.4"
  }
 },
 "nbformat": 4,
 "nbformat_minor": 5
}
